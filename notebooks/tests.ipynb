{
 "cells": [
  {
   "cell_type": "code",
   "execution_count": 7,
   "id": "230f3e8c",
   "metadata": {},
   "outputs": [],
   "source": [
    "import os\n",
    "import sys"
   ]
  },
  {
   "cell_type": "code",
   "execution_count": null,
   "id": "48e1b0c7",
   "metadata": {},
   "outputs": [],
   "source": [
    "sys.path.append(os.path.abspath(\"../src\"))\n",
    "from data_ingestion.pandas_loader import load_batch"
   ]
  },
  {
   "cell_type": "code",
   "execution_count": null,
   "id": "1560b918",
   "metadata": {},
   "outputs": [
    {
     "name": "stdout",
     "output_type": "stream",
     "text": [
      "Data shape: (10000, 3072)\n",
      "Number of labels: 10000\n",
      "First label: 6\n"
     ]
    }
   ],
   "source": [
    "batch_path = \"../data/raw/cifar-10-batches-py/data_batch_1\"\n",
    "data, labels = load_batch(batch_path)\n",
    "\n",
    "# Confirm shape and label type\n",
    "print(\"Data shape:\", data.shape)\n",
    "labels.\n",
    "\n",
    "data.\n",
    "print(\"Number of labels:\", len(labels))  \n",
    "print(\"First label:\", labels[0])"
   ]
  }
 ],
 "metadata": {
  "kernelspec": {
   "display_name": "venv",
   "language": "python",
   "name": "python3"
  },
  "language_info": {
   "codemirror_mode": {
    "name": "ipython",
    "version": 3
   },
   "file_extension": ".py",
   "mimetype": "text/x-python",
   "name": "python",
   "nbconvert_exporter": "python",
   "pygments_lexer": "ipython3",
   "version": "3.13.3"
  }
 },
 "nbformat": 4,
 "nbformat_minor": 5
}
